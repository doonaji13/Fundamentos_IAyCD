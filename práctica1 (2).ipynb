{
  "nbformat": 4,
  "nbformat_minor": 0,
  "metadata": {
    "colab": {
      "provenance": []
    },
    "kernelspec": {
      "name": "python3",
      "display_name": "Python 3"
    },
    "language_info": {
      "name": "python"
    }
  },
  "cells": [
    {
      "cell_type": "code",
      "execution_count": null,
      "metadata": {
        "id": "71zJL4CdDh48"
      },
      "outputs": [],
      "source": []
    },
    {
      "cell_type": "markdown",
      "source": [
        "# 🌸 Biografía Donaji Alonso\n",
        "<p align=\"center\">\n",
        "  <img src=\"https://tse1.mm.bing.net/th/id/OIP.SzzmErCo8bTMGpvxMRA13QHaFw?cb=thfvnext&rs=1&pid=ImgDetMain&o=7&rm=3\" alt=\"Imagen simbólica\" width=\"400\">\n",
        "</p>\n",
        "\n",
        "¡Hola! Mi nombre es **Donaji Alonso**, tengo **19 años** y estudio **Ingeniería en Inteligencia Artificial y Ciencia de Datos**.  \n",
        "Desde temprana edad empecé la escuela a los *2 años y medio*.  \n",
        "A lo largo de mi vida he buscado mantener un balance entre la **disciplina académica** y el **bienestar personal**.  \n",
        "\n",
        ">\"Vive la vida vida como si te estubieras muriendo, porque es verdad\"\n",
        "\n",
        "Actualmente me apasionan tres áreas:  \n",
        "1. La **tecnología** y cómo puede transformar el mundo.  \n",
        "2. Los **idiomas** como puente hacia nuevas culturas.  \n",
        "3. El **cine y la cinematografía**, donde encuentro inspiración para crear.  \n",
        "\n",
        "\n",
        "---\n",
        "\n",
        "## Familia\n",
        "Mi familia está conformada por:\n",
        "- Mamá  \n",
        "- Papá  \n",
        "- Hermano menor  \n",
        "\n",
        "Siempre me han apoyado en mis estudios y pasiones. De niña me inscribieron en ballet clásico, lo que me enseñó disciplina, constancia y amor por el arte.  \n",
        "\n",
        "> “La familia es donde la vida comienza y el amor nunca termina.”  \n",
        "\n",
        "---\n",
        "\n",
        "## Educación\n",
        "- **2 años y medio** → Inicié mi educación académica.  \n",
        "- **Niñez** → Ballet clásico.  \n",
        "- **Actualidad** → Ingeniería en Inteligencia Artificial y Ciencia de Datos.    \n",
        "\n",
        "---\n",
        "\n",
        "## Idiomas que aprendo\n",
        "Me encanta aprender idiomas porque me permiten conectar con otras culturas:  \n",
        "\n",
        "- Inglés 🇬🇧 (nivel intermedio)  \n",
        "- Francés 🇫🇷 (nivel básico)  \n",
        "- Coreano 🇰🇷 (en progreso)  \n",
        "- Chino (plan a futuro)  \n",
        "\n",
        "- [ ] Alcanzar nivel C1 en inglés  \n",
        "- [ ] Conversar fluidamente en francés  \n",
        "- [ ] Ver series coreanas sin subtítulos   \n",
        "\n",
        "---\n",
        "\n",
        "## Pasatiempos e intereses\n",
        "- Ver series y películas (especialmente de **ciencia ficción** y **cine arte**)  \n",
        "- Practicar **natación** 🏊‍♀️  \n",
        "- Fotografía 📸\n",
        "- Escribir cuentos cortos ✍️  \n",
        "- Escuchar música **indie rock** mientras estudio 🎶  \n",
        "- Viajar ✈️ y conocer nuevas culturas  \n",
        "- Cocinar recetas 🍳  \n",
        "- Explorar temas de **psicología** y **neurociencia**  \n",
        "\n",
        "---\n",
        "\n",
        "## Resumen\n",
        "\n",
        "| Campo            |                                       |\n",
        "|------------------|---------------------------------------|\n",
        "| Nombre           | Donaji Alonso                         |\n",
        "| Edad             | 19 años                               |\n",
        "| Carrera          | Ingeniería en IA y Ciencia de Datos   |\n",
        "| Idiomas          | Inglés, francés, coreano (aprendiendo)|\n",
        "| Deporte          | Natación                              |\n",
        "| Arte             | Cine, fotografía, escritura           |\n",
        "| Infancia         | Ballet clásico                        |\n",
        "| Extra            | Viajar, cocinar, psicología           |\n",
        "\n",
        "---\n",
        "\n",
        "## Metas y visión a futuro\n",
        "- Voy a trabajar en una empresa tecnológica internacional.  \n",
        "- Voy a escribir un libro.  \n",
        "- Voy a viajar.  \n",
        "- Voy a comprar mi propio coche.  \n",
        "- Voy a aprender a tocar un instrumento musical (guqin o piano).  \n",
        "- Voy a dominar al menos **4 idiomas extranjeros**.    \n",
        "\n",
        "---\n",
        "## Fórmula favorita\n",
        "\n",
        "$$ b^2 - 4ac < 0 $$"
      ],
      "metadata": {
        "id": "kbudK8gbEM5B"
      }
    },
    {
      "cell_type": "markdown",
      "source": [
        "# PYTHON"
      ],
      "metadata": {
        "id": "JKgqsnst_qFe"
      }
    },
    {
      "cell_type": "markdown",
      "source": [
        "### 1) Librerías (import)"
      ],
      "metadata": {
        "id": "1juPwP6f_35f"
      }
    },
    {
      "cell_type": "markdown",
      "source": [
        "Son colecciones de funciones y herramientas ya hechas que se pueden reutilizar en un programa en lugar de volver a crearlas desde cero. Se incorporan con import."
      ],
      "metadata": {
        "id": "ltk9O0d0APmC"
      }
    },
    {
      "cell_type": "code",
      "source": [
        "import math\n",
        "import random\n",
        "from datetime import date\n",
        "\n",
        "raiz_144 = math.sqrt(144)          # raíz cuadrada\n",
        "dado = random.randint(1, 6)        # entero aleatorio 1..6\n",
        "cumple = date(2000, 1, 15)         # cambia a tu fecha real\n",
        "\n",
        "print(\"Raíz de 144:\", raiz_144)\n",
        "print(\"Tiro de dado:\", dado)\n",
        "print(\"Cumpleaños:\", cumple.isoformat())"
      ],
      "metadata": {
        "colab": {
          "base_uri": "https://localhost:8080/"
        },
        "id": "taSwx014_EAb",
        "outputId": "f59ac1ef-7a79-4050-8b3b-bb410327140e"
      },
      "execution_count": null,
      "outputs": [
        {
          "output_type": "stream",
          "name": "stdout",
          "text": [
            "Raíz de 144: 12.0\n",
            "Tiro de dado: 1\n",
            "Cumpleaños: 2000-01-15\n"
          ]
        }
      ]
    },
    {
      "cell_type": "markdown",
      "source": [
        "Aprendí que las librerías son colecciones de funciones y herramientas que puedo importar para no hacer todo desde cero."
      ],
      "metadata": {
        "id": "zOLf7ytTMc_N"
      }
    },
    {
      "cell_type": "markdown",
      "source": [
        "### 2) Variables y tipos de datos"
      ],
      "metadata": {
        "id": "XjZJtRkXAEX1"
      }
    },
    {
      "cell_type": "markdown",
      "source": [
        "Una variable es un nombre que guarda un valor. El tipo de dato (entero, decimal, texto, booleano, etc.) se asigna automáticamente según el valor."
      ],
      "metadata": {
        "id": "ZZFdw8dZAbV5"
      }
    },
    {
      "cell_type": "code",
      "source": [
        "nombre = \"María\"        # str\n",
        "edad = 17               # int\n",
        "altura_m = 1.65         # float\n",
        "estudiante = True       # bool\n",
        "materias = [\"Mate\", \"Fis\", \"Prog\"]  # list\n",
        "coordenadas = (19.4, -99.1)         # tuple\n",
        "unicos = {1, 2, 2, 3}               # set (sin duplicados)\n",
        "perfil = {\"usuario\": \"maria17\", \"pais\": \"MX\"}  # dict\n",
        "\n",
        "print(nombre, type(nombre))\n",
        "print(edad, type(edad))\n",
        "print(altura_m, type(altura_m))\n",
        "print(estudiante, type(estudiante))\n",
        "print(materias, type(materias))\n",
        "print(coordenadas, type(coordenadas))\n",
        "print(unicos, type(unicos))\n",
        "print(perfil, type(perfil))"
      ],
      "metadata": {
        "colab": {
          "base_uri": "https://localhost:8080/"
        },
        "id": "XH0rgpkSAMXS",
        "outputId": "a72a7d89-0f3d-4118-d7eb-f33c9da0bc5d"
      },
      "execution_count": null,
      "outputs": [
        {
          "output_type": "stream",
          "name": "stdout",
          "text": [
            "María <class 'str'>\n",
            "17 <class 'int'>\n",
            "1.65 <class 'float'>\n",
            "True <class 'bool'>\n",
            "['Mate', 'Fis', 'Prog'] <class 'list'>\n",
            "(19.4, -99.1) <class 'tuple'>\n",
            "{1, 2, 3} <class 'set'>\n",
            "{'usuario': 'maria17', 'pais': 'MX'} <class 'dict'>\n"
          ]
        }
      ]
    },
    {
      "cell_type": "markdown",
      "source": [
        "Aprendí que una variable guarda un valor y que existen diferentes tipos de datos como números, texto, decimales, booleanos, listas y diccionarios."
      ],
      "metadata": {
        "id": "t0VhKJO4MowY"
      }
    },
    {
      "cell_type": "markdown",
      "source": [
        "### 3) Entrada/Salida y conversiones"
      ],
      "metadata": {
        "id": "hlBTh1WiAk8u"
      }
    },
    {
      "cell_type": "markdown",
      "source": [
        "*print()* muestra información en pantalla e *input()* permite recibir texto del usuario. Los datos pueden convertirse a otros tipos con *int()*, *float()*, *str()*, *bool()*."
      ],
      "metadata": {
        "id": "AvCrxnvvAxzJ"
      }
    },
    {
      "cell_type": "code",
      "source": [
        "# Ejemplo sin input (simulamos datos)\n",
        "a_texto = \"12.5\"\n",
        "b_texto = \"3\"\n",
        "\n",
        "a = float(a_texto)  # 12.5\n",
        "b = int(b_texto)    # 3\n",
        "\n",
        "suma = a + b\n",
        "division = a / b\n",
        "\n",
        "print(f\"a={a} (float), b={b} (int) -> suma={suma}, división={division:.2f}\")"
      ],
      "metadata": {
        "colab": {
          "base_uri": "https://localhost:8080/"
        },
        "id": "EbzqEu9-BPzT",
        "outputId": "1aebf9d3-7fb9-472e-e098-c8e7574a1bdb"
      },
      "execution_count": null,
      "outputs": [
        {
          "output_type": "stream",
          "name": "stdout",
          "text": [
            "a=12.5 (float), b=3 (int) -> suma=15.5, división=4.17\n"
          ]
        }
      ]
    },
    {
      "cell_type": "markdown",
      "source": [
        "Aprendí que print() sirve para mostrar información, input() para pedirla, y que se pueden convertir datos con funciones como int() o float()."
      ],
      "metadata": {
        "id": "iuTyCILQMvoo"
      }
    },
    {
      "cell_type": "markdown",
      "source": [
        "###4) Operadores y expresiones"
      ],
      "metadata": {
        "id": "LneZzvQXBV_w"
      }
    },
    {
      "cell_type": "markdown",
      "source": [
        "Los operadores permiten realizar cálculos y comparaciones. Hay aritméticos (+, -, *, /), relacionales (==, <, >), y lógicos (and, or, not). El orden de operaciones influye en el resultado."
      ],
      "metadata": {
        "id": "Lu_Oo8lKBdu2"
      }
    },
    {
      "cell_type": "code",
      "source": [
        "print(\"2 + 3 * 4 =\", 2 + 3 * 4)           # 14\n",
        "print(\"(2 + 3) * 4 =\", (2 + 3) * 4)       # 20\n",
        "print(\"7 // 3 =\", 7 // 3, \" 7 % 3 =\", 7 % 3)  # 2 y 1\n",
        "print(\"2 ** 3 ** 2 =\", 2 ** 3 ** 2)       # 2 ** (3**2) = 2 ** 9 = 512\n",
        "\n",
        "# Lógicos: aprobar si promedio>=7 y asistencia>=0.8\n",
        "promedio, asistencia = 7.2, 0.85\n",
        "aprueba = (promedio >= 7) and (asistencia >= 0.8)\n",
        "print(\"¿Aprueba?\", aprueba)"
      ],
      "metadata": {
        "colab": {
          "base_uri": "https://localhost:8080/"
        },
        "id": "l1SLUvDABuT8",
        "outputId": "2915f506-0769-496d-b354-bb3c47389b6a"
      },
      "execution_count": null,
      "outputs": [
        {
          "output_type": "stream",
          "name": "stdout",
          "text": [
            "2 + 3 * 4 = 14\n",
            "(2 + 3) * 4 = 20\n",
            "7 // 3 = 2  7 % 3 = 1\n",
            "2 ** 3 ** 2 = 512\n",
            "¿Aprueba? True\n"
          ]
        }
      ]
    },
    {
      "cell_type": "markdown",
      "source": [
        "Aprendí que existen operadores matemáticos, de comparación y lógicos, y que el orden en que se aplican afecta el resultado."
      ],
      "metadata": {
        "id": "pWShatemM07n"
      }
    },
    {
      "cell_type": "markdown",
      "source": [
        "###5) Cadenas (strings)"
      ],
      "metadata": {
        "id": "xS-qTklSB1Hr"
      }
    },
    {
      "cell_type": "markdown",
      "source": [
        "Son textos que cuentan con métodos para manipularse, como cambiar mayúsculas/minúsculas, limpiar espacios, dividir en palabras o reemplazar partes. Se pueden formatear fácilmente con f-strings."
      ],
      "metadata": {
        "id": "TFaWYq0XB_j_"
      }
    },
    {
      "cell_type": "code",
      "source": [
        "s = \"   Python ES Genial  \"\n",
        "limpia = s.strip().lower().replace(\"genial\", \"fantástico\")\n",
        "palabras = limpia.split()\n",
        "\n",
        "print(\"Original:\", repr(s))\n",
        "print(\"Limpia:\", limpia)\n",
        "print(\"Palabras:\", palabras)\n",
        "\n",
        "# Pequeña utilidad: detectar palíndromos (ignorando espacios y mayúsculas)\n",
        "def es_palindromo(texto: str) -> bool:\n",
        "    t = \"\".join(ch.lower() for ch in texto if ch.isalnum())\n",
        "    return t == t[::-1]\n",
        "\n",
        "print(\"¿Anita lava la tina es palíndromo?\", es_palindromo(\"Anita lava la tina\"))\n",
        "print(\"¿Hola mundo es palíndromo?\", es_palindromo(\"Hola mundo\"))"
      ],
      "metadata": {
        "colab": {
          "base_uri": "https://localhost:8080/"
        },
        "id": "TmiBKX9hCGew",
        "outputId": "06b5ba3a-dc05-4be0-d029-ccafa00d0f7a"
      },
      "execution_count": null,
      "outputs": [
        {
          "output_type": "stream",
          "name": "stdout",
          "text": [
            "Original: '   Python ES Genial  '\n",
            "Limpia: python es fantástico\n",
            "Palabras: ['python', 'es', 'fantástico']\n",
            "¿Anita lava la tina es palíndromo? True\n",
            "¿Hola mundo es palíndromo? False\n"
          ]
        }
      ]
    },
    {
      "cell_type": "markdown",
      "source": [
        "Aprendí que los textos se pueden manipular con métodos como cambiar mayúsculas, eliminar espacios, reemplazar partes y dividirlos."
      ],
      "metadata": {
        "id": "1dcQesMbM7Hw"
      }
    },
    {
      "cell_type": "markdown",
      "source": [
        "###6) Control de flujo (if, for, while)"
      ],
      "metadata": {
        "id": "_yPESwf-CMQd"
      }
    },
    {
      "cell_type": "markdown",
      "source": [
        "Las estructuras de control permiten decidir *(if)* y repetir *(for, while)*. Sirven para ejecutar instrucciones dependiendo de condiciones o de un número de repeticiones."
      ],
      "metadata": {
        "id": "CfZfpqq3CY_z"
      }
    },
    {
      "cell_type": "code",
      "source": [
        "suma_cuad = 0\n",
        "for n in range(1, 6):\n",
        "    cuadrado = n * n\n",
        "    if cuadrado % 2 == 0:\n",
        "        pass  # no hacemos nada especial; es solo de ejemplo\n",
        "    suma_cuad += cuadrado\n",
        "print(\"Suma de cuadrados 1..5 =\", suma_cuad)\n",
        "\n",
        "# while: generar primeros 8 Fibonacci\n",
        "fib = [0, 1]\n",
        "while len(fib) < 8:\n",
        "    fib.append(fib[-1] + fib[-2])\n",
        "print(\"Fibonacci (8):\", fib)"
      ],
      "metadata": {
        "colab": {
          "base_uri": "https://localhost:8080/"
        },
        "id": "FhWp87X8Ch4i",
        "outputId": "ac7dca15-4fa6-4b32-f63d-a16ac99db71f"
      },
      "execution_count": null,
      "outputs": [
        {
          "output_type": "stream",
          "name": "stdout",
          "text": [
            "Suma de cuadrados 1..5 = 55\n",
            "Fibonacci (8): [0, 1, 1, 2, 3, 5, 8, 13]\n"
          ]
        }
      ]
    },
    {
      "cell_type": "markdown",
      "source": [
        "Aprendí que con if se toman decisiones y con for o while se repiten instrucciones."
      ],
      "metadata": {
        "id": "ap2EzesDM_8C"
      }
    },
    {
      "cell_type": "markdown",
      "source": [
        "###7) Colecciones (listas, tuplas, conjuntos, diccionarios)"
      ],
      "metadata": {
        "id": "nvaXlsfKCo1W"
      }
    },
    {
      "cell_type": "markdown",
      "source": [
        "Son formas de agrupar datos:\n",
        "\n",
        "Lista: ordenada y modificable.\n",
        "\n",
        "Tupla: ordenada e inmutable.\n",
        "\n",
        "Conjunto: sin duplicados ni orden.\n",
        "\n",
        "Diccionario: pares clave-valor."
      ],
      "metadata": {
        "id": "EJg5bgRUGnYc"
      }
    },
    {
      "cell_type": "code",
      "source": [
        "compras = [\"pan\", \"leche\", \"huevo\", \"arroz\"]\n",
        "compras.append(\"manzana\")\n",
        "compras.remove(\"pan\")\n",
        "compras.sort()\n",
        "print(\"Lista compras:\", compras, \" ¿leche?\", \"leche\" in compras)\n",
        "\n",
        "# Tupla\n",
        "punto = (3, 4)\n",
        "print(\"Tupla punto:\", punto)\n",
        "\n",
        "# Conjunto (quita duplicados)\n",
        "nums = [1, 2, 2, 3, 3, 3]\n",
        "unicos = set(nums)\n",
        "print(\"Únicos:\", unicos)\n",
        "\n",
        "# Diccionario\n",
        "calif = {\"Ana\": [9, 8, 10], \"Luis\": [7, 7, 8]}\n",
        "prom_ana = sum(calif[\"Ana\"]) / len(calif[\"Ana\"])\n",
        "prom_grupo = sum(sum(v) for v in calif.values()) / sum(len(v) for v in calif.values())\n",
        "print(\"Promedio Ana:\", prom_ana, \"Promedio grupo:\", round(prom_grupo, 2))"
      ],
      "metadata": {
        "colab": {
          "base_uri": "https://localhost:8080/"
        },
        "id": "UDkvcjRVGupu",
        "outputId": "ebf40c38-f1c0-4212-d5f8-e170189d3b08"
      },
      "execution_count": null,
      "outputs": [
        {
          "output_type": "stream",
          "name": "stdout",
          "text": [
            "Lista compras: ['arroz', 'huevo', 'leche', 'manzana']  ¿leche? True\n",
            "Tupla punto: (3, 4)\n",
            "Únicos: {1, 2, 3}\n",
            "Promedio Ana: 9.0 Promedio grupo: 8.17\n"
          ]
        }
      ]
    },
    {
      "cell_type": "markdown",
      "source": [
        "Aprendí que las colecciones permiten agrupar datos de distintas formas: ordenados, inmutables, sin duplicados o en pares clave-valor."
      ],
      "metadata": {
        "id": "z1nrBDEfNHnt"
      }
    },
    {
      "cell_type": "markdown",
      "source": [
        "###8) Comprensiones"
      ],
      "metadata": {
        "id": "-JsiBSweHF2r"
      }
    },
    {
      "cell_type": "markdown",
      "source": [
        "Son atajos para crear listas, conjuntos o diccionarios de manera compacta y clara a partir de bucles y condiciones."
      ],
      "metadata": {
        "id": "Gql9aX8VHm4T"
      }
    },
    {
      "cell_type": "code",
      "source": [
        "cuadrados = [n*n for n in range(1, 11)]\n",
        "pares = [x for x in cuadrados if x % 2 == 0]\n",
        "print(\"Cuadrados:\", cuadrados)\n",
        "print(\"Pares:\", pares)\n",
        "\n",
        "# Diccionario inverso (materia -> profe) => (profe -> materia)\n",
        "materia_a_profe = {\"Mate\": \"Sofía\", \"Física\": \"Sofía\", \"Historia\": \"Carlos\"}\n",
        "# Si un profe repite, guardamos una sola materia (ejemplo simple)\n",
        "profe_a_materia = {profe: materia for materia, profe in materia_a_profe.items()}\n",
        "print(\"Inverso simple:\", profe_a_materia)\n",
        "\n",
        "# Set comprehension: letras únicas sin vocales\n",
        "s = \"programación\"\n",
        "sin_vocales = {c for c in s if c not in \"aeiouáéíóú\"}\n",
        "print(\"Letras sin vocales:\", sin_vocales)"
      ],
      "metadata": {
        "colab": {
          "base_uri": "https://localhost:8080/"
        },
        "id": "JRoeHEXKIahq",
        "outputId": "e8614f57-6163-419f-c426-c57bc04f3726"
      },
      "execution_count": null,
      "outputs": [
        {
          "output_type": "stream",
          "name": "stdout",
          "text": [
            "Cuadrados: [1, 4, 9, 16, 25, 36, 49, 64, 81, 100]\n",
            "Pares: [4, 16, 36, 64, 100]\n",
            "Inverso simple: {'Sofía': 'Física', 'Carlos': 'Historia'}\n",
            "Letras sin vocales: {'r', 'p', 'n', 'c', 'g', 'm'}\n"
          ]
        }
      ]
    },
    {
      "cell_type": "markdown",
      "source": [
        "Aprendí que las comprensiones son una forma corta y clara de crear listas, conjuntos o diccionarios."
      ],
      "metadata": {
        "id": "kBWduJQ1NL0t"
      }
    },
    {
      "cell_type": "markdown",
      "source": [
        "###9) Funciones (def)"
      ],
      "metadata": {
        "id": "BTkTr78DI96L"
      }
    },
    {
      "cell_type": "markdown",
      "source": [
        "Permiten agrupar código reutilizable que puede recibir parámetros y devolver resultados. Pueden tener valores por defecto y documentación propia."
      ],
      "metadata": {
        "id": "FLktwU1TJDx5"
      }
    },
    {
      "cell_type": "code",
      "source": [
        "def area_rectangulo(base: float, altura: float = 1.0) -> float:\n",
        "    \"\"\"Calcula el área de un rectángulo.\"\"\"\n",
        "    return base * altura\n",
        "\n",
        "def es_segura(pw: str) -> bool:\n",
        "    \"\"\"Contraseña segura: >=8 y contiene mayúscula, minúscula y dígito.\"\"\"\n",
        "    return (\n",
        "        len(pw) >= 8 and\n",
        "        any(c.isupper() for c in pw) and\n",
        "        any(c.islower() for c in pw) and\n",
        "        any(c.isdigit() for c in pw)\n",
        "    )\n",
        "\n",
        "print(\"Área 5x2 =\", area_rectangulo(5, 2))\n",
        "print(\"¿'Hola1234' es segura?\", es_segura(\"Hola1234\"))\n",
        "print(\"¿'hola' es segura?\", es_segura(\"hola\"))"
      ],
      "metadata": {
        "colab": {
          "base_uri": "https://localhost:8080/"
        },
        "id": "7Z93-5LWJG__",
        "outputId": "1a11884c-ad0c-4079-8fbd-e17c67defe8f"
      },
      "execution_count": null,
      "outputs": [
        {
          "output_type": "stream",
          "name": "stdout",
          "text": [
            "Área 5x2 = 10\n",
            "¿'Hola1234' es segura? True\n",
            "¿'hola' es segura? False\n"
          ]
        }
      ]
    },
    {
      "cell_type": "markdown",
      "source": [
        "Aprendí que las funciones permiten reunir instrucciones en un bloque reutilizable que puede recibir datos y devolver un resultado.\n",
        "\n"
      ],
      "metadata": {
        "id": "GwcMkKWlNskH"
      }
    },
    {
      "cell_type": "markdown",
      "source": [
        "###10) Módulos y paquetes"
      ],
      "metadata": {
        "id": "j6vE7wZPJLlt"
      }
    },
    {
      "cell_type": "markdown",
      "source": [
        "Un módulo es un archivo *.py* con funciones o clases reutilizables. Los paquetes son colecciones de módulos organizados en carpetas. Se importan para usarlos en otros programas."
      ],
      "metadata": {
        "id": "3ozvb4T-JPdT"
      }
    },
    {
      "cell_type": "code",
      "source": [
        "contenido = '''\n",
        "def limpiar_texto(s: str) -> str:\n",
        "    return s.strip().lower()\n",
        "\n",
        "def contar_vocales(s: str) -> dict:\n",
        "    s = s.lower()\n",
        "    vocs = \"aeiouáéíóú\"\n",
        "    return {v: s.count(v) for v in vocs if s.count(v) > 0}\n",
        "'''.lstrip()\n",
        "\n",
        "with open(\"utilidades.py\", \"w\", encoding=\"utf-8\") as f:\n",
        "    f.write(contenido)\n",
        "\n",
        "# Lo importamos y usamos\n",
        "import utilidades as ut\n",
        "\n",
        "frase = \"  HOLA Mundo, Programación en PYTHON  \"\n",
        "print(\"Limpia:\", ut.limpiar_texto(frase))\n",
        "print(\"Vocales:\", ut.contar_vocales(frase))"
      ],
      "metadata": {
        "colab": {
          "base_uri": "https://localhost:8080/"
        },
        "id": "uOUgXKsUJUF9",
        "outputId": "93810d6b-86b6-45eb-e6c3-22b761731dfe"
      },
      "execution_count": null,
      "outputs": [
        {
          "output_type": "stream",
          "name": "stdout",
          "text": [
            "Limpia: hola mundo, programación en python\n",
            "Vocales: {'a': 3, 'e': 1, 'i': 1, 'o': 4, 'u': 1, 'ó': 1}\n"
          ]
        }
      ]
    },
    {
      "cell_type": "markdown",
      "source": [
        "Aprendí que un módulo es un archivo de Python con funciones, y que los paquetes son colecciones de módulos que se pueden importar."
      ],
      "metadata": {
        "id": "HI5pvANVN16Y"
      }
    },
    {
      "cell_type": "markdown",
      "source": [
        "###11) Archivos: leer y escribir"
      ],
      "metadata": {
        "id": "5rO7iUk3JcsG"
      }
    },
    {
      "cell_type": "markdown",
      "source": [
        "Se usan para guardar o recuperar información en el disco. Con *with open(ruta, modo)* se asegura un manejo seguro. Los modos comunes son: \"w\" (escribir), \"a\" (añadir) y \"r\" (leer)."
      ],
      "metadata": {
        "id": "L4Zq-NvaJg5N"
      }
    },
    {
      "cell_type": "code",
      "source": [
        "notas = [9.5, 8.0, 7.5, 10.0, 8.5]\n",
        "with open(\"notas.txt\", \"w\", encoding=\"utf-8\") as f:\n",
        "    for n in notas:\n",
        "        f.write(f\"{n}\\n\")\n",
        "\n",
        "leidas = []\n",
        "with open(\"notas.txt\", \"r\", encoding=\"utf-8\") as f:\n",
        "    for linea in f:\n",
        "        leidas.append(float(linea.strip()))\n",
        "\n",
        "promedio = sum(leidas) / len(leidas)\n",
        "print(\"Notas leídas:\", leidas, \" Promedio:\", round(promedio, 2))\n",
        "\n",
        "# Mini contador de palabras (simple)\n",
        "texto = \"¡Hola, hola! Esto es una prueba. Prueba simple; hola.\"\n",
        "with open(\"texto.txt\", \"w\", encoding=\"utf-8\") as f:\n",
        "    f.write(texto)\n",
        "\n",
        "import re\n",
        "with open(\"texto.txt\", \"r\", encoding=\"utf-8\") as f:\n",
        "    contenido = f.read().lower()\n",
        "    contenido = re.sub(r\"[^a-záéíóúñü\\s]\", \" \", contenido)  # quita signos\n",
        "    palabras = [p for p in contenido.split() if p]\n",
        "\n",
        "from collections import Counter\n",
        "top5 = Counter(palabras).most_common(5)\n",
        "print(\"Top 5 palabras:\", top5)"
      ],
      "metadata": {
        "colab": {
          "base_uri": "https://localhost:8080/"
        },
        "id": "4XOIFQsSJmtH",
        "outputId": "c03927a3-3af1-4e88-a9cc-e7d508110bfd"
      },
      "execution_count": null,
      "outputs": [
        {
          "output_type": "stream",
          "name": "stdout",
          "text": [
            "Notas leídas: [9.5, 8.0, 7.5, 10.0, 8.5]  Promedio: 8.7\n",
            "Top 5 palabras: [('hola', 3), ('prueba', 2), ('esto', 1), ('es', 1), ('una', 1)]\n"
          ]
        }
      ]
    },
    {
      "cell_type": "markdown",
      "source": [
        "Aprendí que con Python se pueden abrir archivos para leer o escribir información usando diferentes modos."
      ],
      "metadata": {
        "id": "JVNap-qCOmFc"
      }
    },
    {
      "cell_type": "markdown",
      "source": [
        "###12) Errores y excepciones"
      ],
      "metadata": {
        "id": "1GeQrDjkJsni"
      }
    },
    {
      "cell_type": "markdown",
      "source": [
        "Los errores pueden detener un programa. Con *try/except* se controlan para que no interrumpan la ejecución. También se puede lanzar un error personalizado con *raise*."
      ],
      "metadata": {
        "id": "4TIAt7n0Jwf8"
      }
    },
    {
      "cell_type": "code",
      "source": [
        "def dividir_seguro(a, b):\n",
        "    if b == 0:\n",
        "        raise ValueError(\"No se puede dividir entre cero.\")\n",
        "    return a / b\n",
        "\n",
        "# Ejemplos con manejo de excepciones\n",
        "casos = [(10, 2), (5, 0), (\"9\", 3)]\n",
        "for x, y in casos:\n",
        "    try:\n",
        "        resultado = dividir_seguro(x, y)\n",
        "    except TypeError as e:\n",
        "        print(f\"TypeError con ({x}, {y}): {e}\")\n",
        "    except ValueError as e:\n",
        "        print(f\"ValueError con ({x}, {y}): {e}\")\n",
        "    else:\n",
        "        print(f\"{x} / {y} = {resultado}\")\n",
        "    finally:\n",
        "        pass  # lugar para liberar recursos si fuera necesario"
      ],
      "metadata": {
        "colab": {
          "base_uri": "https://localhost:8080/"
        },
        "id": "yh2kwyspJ5AZ",
        "outputId": "a10f81b1-caed-4314-aaa0-835233007fe9"
      },
      "execution_count": null,
      "outputs": [
        {
          "output_type": "stream",
          "name": "stdout",
          "text": [
            "10 / 2 = 5.0\n",
            "ValueError con (5, 0): No se puede dividir entre cero.\n",
            "TypeError con (9, 3): unsupported operand type(s) for /: 'str' and 'int'\n"
          ]
        }
      ]
    },
    {
      "cell_type": "markdown",
      "source": [
        "Aprendí que los errores se pueden manejar con try y except para que el programa no se detenga y que también se pueden lanzar errores personalizados."
      ],
      "metadata": {
        "id": "IckseujNOzwD"
      }
    }
  ]
}